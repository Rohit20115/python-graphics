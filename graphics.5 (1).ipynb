{
 "cells": [
  {
   "cell_type": "code",
   "execution_count": 4,
   "id": "5f6da175",
   "metadata": {},
   "outputs": [
    {
     "ename": "Terminator",
     "evalue": "",
     "output_type": "error",
     "traceback": [
      "\u001b[1;31m---------------------------------------------------------------------------\u001b[0m",
      "\u001b[1;31mTerminator\u001b[0m                                Traceback (most recent call last)",
      "Cell \u001b[1;32mIn[4], line 3\u001b[0m\n\u001b[0;32m      1\u001b[0m \u001b[38;5;28;01mfrom\u001b[39;00m \u001b[38;5;21;01mturtle\u001b[39;00m \u001b[38;5;28;01mimport\u001b[39;00m\u001b[38;5;241m*\u001b[39m\n\u001b[0;32m      2\u001b[0m \u001b[38;5;28;01mimport\u001b[39;00m \u001b[38;5;21;01mcolorsys\u001b[39;00m\n\u001b[1;32m----> 3\u001b[0m bgcolor(\u001b[38;5;124m\"\u001b[39m\u001b[38;5;124mblack\u001b[39m\u001b[38;5;124m\"\u001b[39m)\n\u001b[0;32m      4\u001b[0m pensize(\u001b[38;5;241m2\u001b[39m)\n\u001b[0;32m      5\u001b[0m tracer(\u001b[38;5;241m10\u001b[39m)\n",
      "File \u001b[1;32m<string>:5\u001b[0m, in \u001b[0;36mbgcolor\u001b[1;34m(*args)\u001b[0m\n",
      "\u001b[1;31mTerminator\u001b[0m: "
     ]
    }
   ],
   "source": [
    "from turtle import*\n",
    "import colorsys\n",
    "bgcolor(\"black\")\n",
    "pensize(2)\n",
    "tracer(10)\n",
    "h=0\n",
    "\n",
    "for i in range(150):\n",
    "    c=colorsys.hsv_to_rgb(h,1,1)\n",
    "    pencolor(c)\n",
    "    h+=0.005\n",
    "    right(120)\n",
    "    circle(-i*0.5,120)\n",
    "    circle(i*0.5,120)\n",
    "    circle(i*0.5,60)\n",
    "done()"
   ]
  },
  {
   "cell_type": "code",
   "execution_count": 5,
   "id": "f2b86f8d",
   "metadata": {},
   "outputs": [],
   "source": [
    "from turtle import*\n",
    "import colorsys\n",
    "bgcolor(\"black\")\n",
    "pensize(2)\n",
    "tracer(10)\n",
    "h=0\n",
    "\n",
    "for i in range(150):\n",
    "    c=colorsys.hsv_to_rgb(h,1,1)\n",
    "    pencolor(c)\n",
    "    h+=0.005\n",
    "    right(120)\n",
    "    circle(-i*0.5,120)\n",
    "    circle(i*0.5,120)\n",
    "    circle(i*0.5,60)\n",
    "done()"
   ]
  },
  {
   "cell_type": "code",
   "execution_count": null,
   "id": "a92f12f5",
   "metadata": {},
   "outputs": [],
   "source": []
  },
  {
   "cell_type": "code",
   "execution_count": null,
   "id": "1e373f46",
   "metadata": {},
   "outputs": [],
   "source": []
  }
 ],
 "metadata": {
  "kernelspec": {
   "display_name": "Python 3 (ipykernel)",
   "language": "python",
   "name": "python3"
  },
  "language_info": {
   "codemirror_mode": {
    "name": "ipython",
    "version": 3
   },
   "file_extension": ".py",
   "mimetype": "text/x-python",
   "name": "python",
   "nbconvert_exporter": "python",
   "pygments_lexer": "ipython3",
   "version": "3.11.4"
  }
 },
 "nbformat": 4,
 "nbformat_minor": 5
}
