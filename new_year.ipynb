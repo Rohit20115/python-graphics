{
 "cells": [
  {
   "cell_type": "code",
   "execution_count": null,
   "id": "1f41d56d",
   "metadata": {},
   "outputs": [],
   "source": [
    "import turtle\n",
    "import time\n",
    "\n",
    "# Set up the screen\n",
    "screen = turtle.Screen()\n",
    "screen.bgcolor(\"black\")\n",
    "screen.title(\"Rohit\")\n",
    "\n",
    "# Create the firework function\n",
    "def firework(x, y):\n",
    "    turtle.penup()\n",
    "    turtle.goto(x, y)\n",
    "    turtle.pendown()\n",
    "    turtle.color(\"red\")\n",
    "    turtle.circle(50)\n",
    "    time.sleep(0.2)\n",
    "    turtle.clear()\n",
    "\n",
    "# Create multiple fireworks\n",
    "for i in range(5):\n",
    "    x = -200 + i * 100\n",
    "    y = 0\n",
    "    firework(x, y)\n",
    "\n",
    "# Display \"Happy New Year!\"\n",
    "turtle.penup()\n",
    "turtle.goto(-50, -50)\n",
    "turtle.pendown()\n",
    "turtle.color(\"white\")\n",
    "turtle.write(\"Rohit sahu\", font=(\"Arial\", 20, \"bold\"))\n",
    "\n",
    "# Hide turtle\n",
    "turtle.hideturtle()\n",
    "\n",
    "# Close the window when clicked\n",
    "screen.exitonclick()"
   ]
  },
  {
   "cell_type": "code",
   "execution_count": null,
   "id": "d6cfdecb",
   "metadata": {},
   "outputs": [],
   "source": []
  },
  {
   "cell_type": "code",
   "execution_count": null,
   "id": "272c3857",
   "metadata": {},
   "outputs": [],
   "source": []
  }
 ],
 "metadata": {
  "kernelspec": {
   "display_name": "Python 3 (ipykernel)",
   "language": "python",
   "name": "python3"
  },
  "language_info": {
   "codemirror_mode": {
    "name": "ipython",
    "version": 3
   },
   "file_extension": ".py",
   "mimetype": "text/x-python",
   "name": "python",
   "nbconvert_exporter": "python",
   "pygments_lexer": "ipython3",
   "version": "3.11.4"
  }
 },
 "nbformat": 4,
 "nbformat_minor": 5
}
