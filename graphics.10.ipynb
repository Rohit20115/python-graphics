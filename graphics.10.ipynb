{
 "cells": [
  {
   "cell_type": "code",
   "execution_count": null,
   "id": "ba68ff3b",
   "metadata": {
    "tags": []
   },
   "outputs": [],
   "source": [
    "import turtle as sm\n",
    "import colorsys\n",
    "sm.bgcolor(\"black\")\n",
    "sm.tracer(2)\n",
    "sm.pemsize(2)\n",
    "h=0\n",
    "\n",
    "for i in range(190):\n",
    "    color = colorsys.hsv_to_rgb(h,0,9,1)\n",
    "    h+=0.006\n",
    "    sm.pencolor(color)\n",
    "    sm.left(179)\n",
    "    sm.backword(i*0.3)\n",
    "    sm.circle(i*0.3,120)\n",
    "    sm.right(14)\n",
    "    sm.forword(i*0.2)\n",
    "    sm.circle(i*.3,120)\n",
    "sm.done()"
   ]
  },
  {
   "cell_type": "code",
   "execution_count": null,
   "id": "f85117dd",
   "metadata": {},
   "outputs": [],
   "source": []
  },
  {
   "cell_type": "code",
   "execution_count": null,
   "id": "d2a763d8-78f9-4348-9471-78408979f248",
   "metadata": {},
   "outputs": [],
   "source": []
  }
 ],
 "metadata": {
  "kernelspec": {
   "display_name": "Python 3 (ipykernel)",
   "language": "python",
   "name": "python3"
  },
  "language_info": {
   "codemirror_mode": {
    "name": "ipython",
    "version": 3
   },
   "file_extension": ".py",
   "mimetype": "text/x-python",
   "name": "python",
   "nbconvert_exporter": "python",
   "pygments_lexer": "ipython3",
   "version": "3.11.4"
  }
 },
 "nbformat": 4,
 "nbformat_minor": 5
}
