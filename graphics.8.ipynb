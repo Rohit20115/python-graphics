{
 "cells": [
  {
   "cell_type": "code",
   "execution_count": 1,
   "id": "f0526a78",
   "metadata": {
    "tags": []
   },
   "outputs": [
    {
     "ename": "Terminator",
     "evalue": "",
     "output_type": "error",
     "traceback": [
      "\u001b[1;31m---------------------------------------------------------------------------\u001b[0m",
      "\u001b[1;31mTerminator\u001b[0m                                Traceback (most recent call last)",
      "Cell \u001b[1;32mIn[1], line 15\u001b[0m\n\u001b[0;32m     13\u001b[0m     circle(\u001b[38;5;241m-\u001b[39mi\u001b[38;5;241m+\u001b[39m\u001b[38;5;241m1\u001b[39m,\u001b[38;5;241m150\u001b[39m)\n\u001b[0;32m     14\u001b[0m     goto(\u001b[38;5;241m0\u001b[39m,\u001b[38;5;241m0\u001b[39m)\n\u001b[1;32m---> 15\u001b[0m     rt(\u001b[38;5;241m50\u001b[39m)\n\u001b[0;32m     16\u001b[0m     fd(\u001b[38;5;241m50\u001b[39m)\n\u001b[0;32m     17\u001b[0m done()\n",
      "File \u001b[1;32m<string>:5\u001b[0m, in \u001b[0;36mrt\u001b[1;34m(angle)\u001b[0m\n",
      "\u001b[1;31mTerminator\u001b[0m: "
     ]
    }
   ],
   "source": [
    "from turtle import*\n",
    "import colorsys\n",
    "\n",
    "speed(0)\n",
    "bgcolor(\"black\")\n",
    "pensize(2)\n",
    "h=2.8\n",
    "\n",
    "for i in range(100):\n",
    "    c=colorsys.hsv_to_rgb(h,1,1)\n",
    "    pencolor(c)\n",
    "    h+=0.005\n",
    "    circle(-i+1,150)\n",
    "    goto(0,0)\n",
    "    rt(50)\n",
    "    fd(50)\n",
    "done()"
   ]
  },
  {
   "cell_type": "code",
   "execution_count": null,
   "id": "f74ccecd",
   "metadata": {},
   "outputs": [],
   "source": []
  }
 ],
 "metadata": {
  "kernelspec": {
   "display_name": "Python 3 (ipykernel)",
   "language": "python",
   "name": "python3"
  },
  "language_info": {
   "codemirror_mode": {
    "name": "ipython",
    "version": 3
   },
   "file_extension": ".py",
   "mimetype": "text/x-python",
   "name": "python",
   "nbconvert_exporter": "python",
   "pygments_lexer": "ipython3",
   "version": "3.11.4"
  }
 },
 "nbformat": 4,
 "nbformat_minor": 5
}
