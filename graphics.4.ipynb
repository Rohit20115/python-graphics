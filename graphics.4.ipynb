{
 "cells": [
  {
   "cell_type": "code",
   "execution_count": 3,
   "id": "1382cf5a",
   "metadata": {},
   "outputs": [],
   "source": [
    "from turtle import*\n",
    "import colorsys\n",
    "bgcolor(\"black\")\n",
    "pensize(3)\n",
    "tracer(5)\n",
    "speed(0)\n",
    "setpos(-90,80)\n",
    "\n",
    "h = 0.0\n",
    "for i in range(400):\n",
    "    c = colorsys.hsv_to_rgb(h,1,1)\n",
    "    pencolor(c)\n",
    "    fd(200)\n",
    "    rt(91)\n",
    "    circle(60)\n",
    "    h+=0.009\n",
    "hideturtle()\n",
    "done()"
   ]
  },
  {
   "cell_type": "code",
   "execution_count": null,
   "id": "24a02bba",
   "metadata": {},
   "outputs": [],
   "source": []
  }
 ],
 "metadata": {
  "kernelspec": {
   "display_name": "Python 3 (ipykernel)",
   "language": "python",
   "name": "python3"
  },
  "language_info": {
   "codemirror_mode": {
    "name": "ipython",
    "version": 3
   },
   "file_extension": ".py",
   "mimetype": "text/x-python",
   "name": "python",
   "nbconvert_exporter": "python",
   "pygments_lexer": "ipython3",
   "version": "3.11.4"
  }
 },
 "nbformat": 4,
 "nbformat_minor": 5
}
